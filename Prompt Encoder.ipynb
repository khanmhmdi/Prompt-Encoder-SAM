{
 "cells": [
  {
   "cell_type": "code",
   "execution_count": 30,
   "id": "bbef1df1",
   "metadata": {},
   "outputs": [],
   "source": [
    "class LayerNorm2d(nn.Module):\n",
    "    def __init__(self, num_channels: int, eps: float = 1e-6) -> None:\n",
    "        super().__init__()\n",
    "        self.weight = nn.Parameter(torch.ones(num_channels))\n",
    "        self.bias = nn.Parameter(torch.zeros(num_channels))\n",
    "        self.eps = eps\n",
    "\n",
    "    def forward(self, x: torch.Tensor) -> torch.Tensor:\n",
    "        u = x.mean(1, keepdim=True)\n",
    "        s = (x - u).pow(2).mean(1, keepdim=True)\n",
    "        x = (x - u) / torch.sqrt(s + self.eps)\n",
    "        y = self.weight[:, None, None] * x\n",
    "        # y = torch.mul(self.weight[:, None, None], x)\n",
    "        x = y + self.bias[:, None, None]\n",
    "        return x\n"
   ]
  },
  {
   "cell_type": "code",
   "execution_count": 87,
   "id": "c74814c1",
   "metadata": {},
   "outputs": [],
   "source": [
    "# Copyright (c) Meta Platforms, Inc. and affiliates.\n",
    "# All rights reserved.\n",
    "\n",
    "# This source code is licensed under the license found in the\n",
    "# LICENSE file in the root directory of this source tree.\n",
    "\n",
    "import numpy as np\n",
    "import torch\n",
    "from torch import nn\n",
    "\n",
    "from typing import Any, Optional, Tuple, Type\n",
    "import matplotlib.pyplot as plt\n",
    "\n",
    "class  PromptEncoder(nn.Module):\n",
    "    def __init__(\n",
    "        self,\n",
    "        embed_dim: int,\n",
    "        image_embedding_size: Tuple[int, int],\n",
    "        input_image_size: Tuple[int, int],\n",
    "        mask_in_chans: int,\n",
    "        activation: Type[nn.Module] = nn.GELU,\n",
    "    ) -> None:\n",
    "        \"\"\"\n",
    "        Encodes prompts for input to SAM's mask decoder.\n",
    "\n",
    "        Arguments:\n",
    "          embed_dim (int): The prompts' embedding dimension\n",
    "          image_embedding_size (tuple(int, int)): The spatial size of the\n",
    "            image embedding, as (H, W).\n",
    "          input_image_size (int): The padded size of the image as input\n",
    "            to the image encoder, as (H, W).\n",
    "          mask_in_chans (int): The number of hidden channels used for\n",
    "            encoding input masks.\n",
    "          activation (nn.Module): The activation to use when encoding\n",
    "            input masks.\n",
    "        \"\"\"\n",
    "        super().__init__()\n",
    "        self.embed_dim = embed_dim\n",
    "        self.input_image_size = input_image_size\n",
    "        self.image_embedding_size = image_embedding_size\n",
    "        self.pe_layer = PositionEmbeddingRandom(embed_dim // 2)\n",
    "\n",
    "        self.num_point_embeddings: int = 4  # pos/neg point + 2 box corners\n",
    "        point_embeddings = [nn.Embedding(1, embed_dim) for i in range(self.num_point_embeddings)]\n",
    "        self.point_embeddings = nn.ModuleList(point_embeddings)\n",
    "        self.not_a_point_embed = nn.Embedding(1, embed_dim)\n",
    "\n",
    "        self.mask_input_size = (4 * image_embedding_size[0], 4 * image_embedding_size[1])\n",
    "        self.mask_downscaling = nn.Sequential(\n",
    "            nn.Conv2d(1, mask_in_chans // 4, kernel_size=2, stride=2),\n",
    "            LayerNorm2d(mask_in_chans // 4),\n",
    "            activation(),\n",
    "            nn.Conv2d(mask_in_chans // 4, mask_in_chans, kernel_size=2, stride=2),\n",
    "            LayerNorm2d(mask_in_chans),\n",
    "            activation(),\n",
    "            nn.Conv2d(mask_in_chans, embed_dim, kernel_size=1),\n",
    "        )\n",
    "        self.no_mask_embed = nn.Embedding(1, embed_dim)\n",
    "\n",
    "    def get_dense_pe(self) -> torch.Tensor:\n",
    "        \"\"\"\n",
    "        Returns the positional encoding used to encode point prompts,\n",
    "        applied to a dense set of points the shape of the image encoding.\n",
    "\n",
    "        Returns:\n",
    "          torch.Tensor: Positional encoding with shape\n",
    "            1x(embed_dim)x(embedding_h)x(embedding_w)\n",
    "        \"\"\"\n",
    "        return self.pe_layer(self.image_embedding_size).unsqueeze(0)\n",
    "\n",
    "    def _embed_points(\n",
    "        self,\n",
    "        points: torch.Tensor,\n",
    "        labels: torch.Tensor,\n",
    "        pad: bool,\n",
    "    ) -> torch.Tensor:\n",
    "        \"\"\"Embeds point prompts.\"\"\"\n",
    "        points = points + 0.5  # Shift to center of pixel\n",
    "\n",
    "        if pad:\n",
    "            padding_point = torch.zeros((points.shape[0], 1, 2), device=points.device)\n",
    "            padding_label = -torch.ones((labels.shape[0], 1), device=labels.device)\n",
    "            points = torch.cat([points, padding_point], dim=1)  #B,N+1,2\n",
    "            labels = torch.cat([labels, padding_label], dim=1)\n",
    "\n",
    "\n",
    "        point_embedding = self.pe_layer.forward_with_coords(points, self.input_image_size)  #B,N+1,256\n",
    "        point_embedding[labels == -1] = 0.0\n",
    "\n",
    "        self.not_a_point_embed.weight = torch.nn.Parameter(self.not_a_point_embed.weight.to(point_embedding.dtype), requires_grad=True)  # todo\n",
    "        self.point_embeddings[0].weight = torch.nn.Parameter(self.point_embeddings[0].weight.to(point_embedding.dtype), requires_grad=True) #todo\n",
    "        self.point_embeddings[1].weight = torch.nn.Parameter(self.point_embeddings[1].weight.to(point_embedding.dtype), requires_grad=True) #todo\n",
    "\n",
    "        point_embedding[labels == -1] += self.not_a_point_embed.weight \n",
    "        point_embedding[labels == 0] += self.point_embeddings[0].weight\n",
    "        point_embedding[labels == 1] += self.point_embeddings[1].weight\n",
    "        return point_embedding\n",
    "\n",
    "    def _embed_boxes(self, boxes: torch.Tensor) -> torch.Tensor:\n",
    "        \"\"\"Embeds box prompts.\"\"\"\n",
    "\n",
    "        boxes = boxes + 0.5  # Shift to center of pixel\n",
    "        coords = boxes.reshape(-1, 2, 2)\n",
    "        corner_embedding = self.pe_layer.forward_with_coords(coords, self.input_image_size)\n",
    "        corner_embedding[:, 0, :] += self.point_embeddings[2].weight\n",
    "        corner_embedding[:, 1, :] += self.point_embeddings[3].weight\n",
    "        return corner_embedding\n",
    "\n",
    "    def _embed_masks(self, masks: torch.Tensor) -> torch.Tensor:\n",
    "        \"\"\"Embeds mask inputs.\"\"\"\n",
    "        mask_embedding = self.mask_downscaling(masks)\n",
    "        return mask_embedding\n",
    "\n",
    "    def _get_batch_size(\n",
    "        self,\n",
    "        points: Optional[Tuple[torch.Tensor, torch.Tensor]],\n",
    "        boxes: Optional[torch.Tensor],\n",
    "        masks: Optional[torch.Tensor],\n",
    "    ) -> int:\n",
    "        \"\"\"\n",
    "        Gets the batch size of the output given the batch size of the input prompts.\n",
    "        \"\"\"\n",
    "        if points is not None:\n",
    "            return points[0].shape[0]\n",
    "        elif boxes is not None:\n",
    "            return boxes.shape[0]\n",
    "        elif masks is not None:\n",
    "            return masks.shape[0]\n",
    "        else:\n",
    "            return 1\n",
    "\n",
    "    def _get_device(self) -> torch.device:\n",
    "        return self.point_embeddings[0].weight.device\n",
    "\n",
    "    def forward(\n",
    "        self,\n",
    "        points: Optional[Tuple[torch.Tensor, torch.Tensor]],\n",
    "        boxes: Optional[torch.Tensor],\n",
    "        masks: Optional[torch.Tensor],\n",
    "    ) -> Tuple[torch.Tensor, torch.Tensor]:\n",
    "        \"\"\"\n",
    "        Embeds different types of prompts, returning both sparse and dense\n",
    "        embeddings.\n",
    "\n",
    "        Arguments:\n",
    "          points (tuple(torch.Tensor, torch.Tensor) or none): point coordinates\n",
    "            and labels to embed.\n",
    "          boxes (torch.Tensor or none): boxes to embed\n",
    "          masks (torch.Tensor or none): masks to embed\n",
    "\n",
    "        Returns:\n",
    "          torch.Tensor: sparse embeddings for the points and boxes, with shape\n",
    "            BxNx(embed_dim), where N is determined by the number of input points\n",
    "            and boxes.\n",
    "          torch.Tensor: dense embeddings for the masks, in the shape\n",
    "            Bx(embed_dim)x(embed_H)x(embed_W)\n",
    "        \"\"\"\n",
    "        bs = self._get_batch_size(points, boxes, masks)\n",
    "        sparse_embeddings = torch.empty((bs, 0, self.embed_dim), device=self._get_device()) #B,0,256  空[]\n",
    "\n",
    "        if points is not None:\n",
    "            coords, labels = points     #coords:B,N,2  labels:B,N\n",
    "            point_embeddings = self._embed_points(coords, labels, pad=(boxes is None))\n",
    "            sparse_embeddings = torch.cat([sparse_embeddings, point_embeddings], dim=1)\n",
    "\n",
    "        if boxes is not None:\n",
    "            box_embeddings = self._embed_boxes(boxes)\n",
    "            sparse_embeddings = torch.cat([sparse_embeddings, box_embeddings], dim=1)\n",
    "\n",
    "        if masks is not None:\n",
    "            dense_embeddings = self._embed_masks(masks)\n",
    "        else:\n",
    "            dense_embeddings = self.no_mask_embed.weight.reshape(1, -1, 1, 1).expand(\n",
    "                bs, -1, self.image_embedding_size[0], self.image_embedding_size[1]\n",
    "            )\n",
    "\n",
    "        return sparse_embeddings, dense_embeddings\n",
    "\n",
    "\n",
    "class PositionEmbeddingRandom(nn.Module):\n",
    "    \"\"\"\n",
    "    Positional encoding using random spatial frequencies.\n",
    "    \"\"\"\n",
    "\n",
    "    def __init__(self, num_pos_feats: int = 64, scale: Optional[float] = None) -> None:\n",
    "        super().__init__()\n",
    "        if scale is None or scale <= 0.0:\n",
    "            scale = 1.0\n",
    "        self.register_buffer(\n",
    "            \"positional_encoding_gaussian_matrix\",\n",
    "            scale * torch.randn((2, num_pos_feats)),\n",
    "        )1],[\n",
    "\n",
    "    def _pe_encoding(self, coords: torch.Tensor) -> torch.Tensor:\n",
    "        \"\"\"Positionally encode points that are normalized to [0,1].\"\"\"\n",
    "        # assuming coords are in [0, 1]^2 square and have d_1 x ... x d_n x 2 shape\n",
    "        coords = 2 * coords - 1\n",
    "        # coords = coords @ self.positional_encoding_gaussian_matrix\n",
    "        coords = coords @ torch.ones((2, 128)).to(torch.float32) # todo\n",
    "        coords = 2 * np.pi * coords\n",
    "        np.save('/home/mkhanmhmdi/Desktop/coord.npy',coords.detach().numpy())\n",
    "        # outputs d_1 x ... x d_n x C shape\n",
    "        np.save('/home/mkhanmhmdi/Desktop/sin-cos.npy',torch.cat([torch.sin(coords), torch.cos(coords)], dim=-1).detach().numpy())\n",
    "\n",
    "        return torch.cat([torch.sin(coords), torch.cos(coords)], dim=-1)\n",
    "\n",
    "    def forward(self, size: Tuple[int, int]) -> torch.Tensor:\n",
    "        \"\"\"Generate positional encoding for a grid of the specified size.\"\"\"\n",
    "        h, w = size\n",
    "\n",
    "        device: Any = self.positional_encoding_gaussian_matrix.device\n",
    "        grid = torch.ones((h, w), device=device, dtype=torch.float32)\n",
    "        y_embed = grid.cumsum(dim=0) - 0.5\n",
    "        x_embed = grid.cumsum(dim=1) - 0.5\n",
    "        y_embed = y_embed / h\n",
    "        x_embed = x_embed / w\n",
    "\n",
    "        pe = self._pe_encoding(torch.stack([x_embed, y_embed], dim=-1))\n",
    "        return pe.permute(2, 0, 1)  # C x H x W\n",
    "\n",
    "    def forward_with_coords(\n",
    "        self, coords_input: torch.Tensor, image_size: Tuple[int, int]\n",
    "    ) -> torch.Tensor:\n",
    "        \"\"\"Positionally encode points that are not normalized to [0,1].\"\"\"\n",
    "        coords = coords_input.clone()\n",
    "        coords[:, :, 0] = coords[:, :, 0] / image_size[1]\n",
    "        coords[:, :, 1] = coords[:, :, 1] / image_size[0]\n",
    "\n",
    "        return self._pe_encoding(coords.to(torch.float))  # B x N x C\n"
   ]
  },
  {
   "cell_type": "code",
   "execution_count": 88,
   "id": "67c2f726",
   "metadata": {},
   "outputs": [],
   "source": [
    "points = (torch.tensor([[[1,1]],\n",
    "\n",
    "         [[10,10]],\n",
    "\n",
    "         [[20,20]],\n",
    "\n",
    "         [[40,40]],\n",
    "\n",
    "         [[ 60,60]],\n",
    "\n",
    "         [[80,80]],\n",
    "\n",
    "         [[100,100]],\n",
    "\n",
    "         [[120,120]],\n",
    "\n",
    "         [[140,140]],\n",
    "\n",
    "         [[160,160]],\n",
    "         [[170,170]],\n",
    "         [[180,180]],\n",
    "         [[190,190]],\n",
    "         [[200,200]],\n",
    "         [[210,210]],\n",
    "         [[220,220]]]),\n",
    " torch.tensor([[1],\n",
    "         [1],\n",
    "         [1],\n",
    "         [1],\n",
    "         [1],\n",
    "         [1],\n",
    "         [1],\n",
    "         [1],\n",
    "         [1],\n",
    "         [1],\n",
    "              [1],[1],[1],[1],[1],[1]]))\n",
    "\n",
    "pad = True\n",
    "# import csv\n",
    "# with open('/home/mkhanmhmdi/Desktop/batch_input_sam.csv', 'w', newline='') as f:\n",
    "#     writer = csv.writer(f)\n",
    "#     writer.writerows(batched_input.items())\n",
    "    "
   ]
  },
  {
   "cell_type": "code",
   "execution_count": 89,
   "id": "549b11af",
   "metadata": {},
   "outputs": [],
   "source": [
    "prompt_embed_dim = 256\n",
    "image_size = 256\n",
    "vit_patch_size = 16\n",
    "image_embedding_size = image_size // vit_patch_size\n",
    "\n",
    "prompt_encoder=PromptEncoder(\n",
    "    embed_dim=prompt_embed_dim,\n",
    "    image_embedding_size=(image_embedding_size, image_embedding_size),\n",
    "    input_image_size=(image_size, image_size),\n",
    "    mask_in_chans=16,\n",
    ")"
   ]
  },
  {
   "cell_type": "code",
   "execution_count": 90,
   "id": "8a63f8d3",
   "metadata": {},
   "outputs": [
    {
     "ename": "NameError",
     "evalue": "name 'my_dict' is not defined",
     "output_type": "error",
     "traceback": [
      "\u001b[0;31m---------------------------------------------------------------------------\u001b[0m",
      "\u001b[0;31mNameError\u001b[0m                                 Traceback (most recent call last)",
      "\u001b[0;32m/tmp/ipykernel_6210/2700937026.py\u001b[0m in \u001b[0;36m<module>\u001b[0;34m\u001b[0m\n\u001b[1;32m      6\u001b[0m     \u001b[0mreader\u001b[0m \u001b[0;34m=\u001b[0m \u001b[0mcsv\u001b[0m\u001b[0;34m.\u001b[0m\u001b[0mreader\u001b[0m\u001b[0;34m(\u001b[0m\u001b[0mf\u001b[0m\u001b[0;34m)\u001b[0m\u001b[0;34m\u001b[0m\u001b[0;34m\u001b[0m\u001b[0m\n\u001b[1;32m      7\u001b[0m     \u001b[0;32mfor\u001b[0m \u001b[0mrow\u001b[0m \u001b[0;32min\u001b[0m \u001b[0mreader\u001b[0m\u001b[0;34m:\u001b[0m\u001b[0;34m\u001b[0m\u001b[0;34m\u001b[0m\u001b[0m\n\u001b[0;32m----> 8\u001b[0;31m         \u001b[0mmy_dict\u001b[0m\u001b[0;34m[\u001b[0m\u001b[0mrow\u001b[0m\u001b[0;34m[\u001b[0m\u001b[0;36m0\u001b[0m\u001b[0;34m]\u001b[0m\u001b[0;34m]\u001b[0m \u001b[0;34m=\u001b[0m \u001b[0mrow\u001b[0m\u001b[0;34m[\u001b[0m\u001b[0;36m1\u001b[0m\u001b[0;34m]\u001b[0m\u001b[0;34m\u001b[0m\u001b[0;34m\u001b[0m\u001b[0m\n\u001b[0m",
      "\u001b[0;31mNameError\u001b[0m: name 'my_dict' is not defined"
     ]
    }
   ],
   "source": [
    "import csv\n",
    "\n",
    "batched_input = {}\n",
    "\n",
    "with open('/home/mkhanmhmdi/Desktop/batch_input_sam.csv', 'r') as f:\n",
    "    reader = csv.reader(f)\n",
    "    for row in reader:\n",
    "        my_dict[row[0]] = row[1]\n"
   ]
  },
  {
   "cell_type": "code",
   "execution_count": 91,
   "id": "d3ff308f",
   "metadata": {},
   "outputs": [],
   "source": [
    "sparse_embeddings, dense_embeddings = prompt_encoder(\n",
    "    points=points,\n",
    "    boxes=batched_input.get(\"boxes\", None),\n",
    "    masks=batched_input.get(\"mask_inputs\", None),\n",
    ")"
   ]
  },
  {
   "cell_type": "code",
   "execution_count": 34,
   "id": "3ec7174c",
   "metadata": {},
   "outputs": [
    {
     "data": {
      "text/plain": [
       "torch.Size([10, 2, 256])"
      ]
     },
     "execution_count": 34,
     "metadata": {},
     "output_type": "execute_result"
    }
   ],
   "source": [
    "sparse_embeddings.shape"
   ]
  },
  {
   "cell_type": "code",
   "execution_count": 36,
   "id": "021ab0ac",
   "metadata": {
    "scrolled": false
   },
   "outputs": [
    {
     "data": {
      "text/plain": [
       "<matplotlib.image.AxesImage at 0x7fec5a75fa90>"
      ]
     },
     "execution_count": 36,
     "metadata": {},
     "output_type": "execute_result"
    },
    {
     "data": {
      "image/png": "[encoded data removed]",
      "text/plain": [
       "<Figure size 640x480 with 1 Axes>"
      ]
     },
     "metadata": {},
     "output_type": "display_data"
    }
   ],
   "source": [
    "plt.imshow(sparse_embeddings[1,1].reshape(16,16).detach())"
   ]
  },
  {
   "cell_type": "code",
   "execution_count": 37,
   "id": "122084c7",
   "metadata": {},
   "outputs": [],
   "source": [
    "import numpy as np"
   ]
  },
  {
   "cell_type": "code",
   "execution_count": 39,
   "id": "c8d92cab",
   "metadata": {},
   "outputs": [],
   "source": [
    "pe = np.load('/home/mkhanmhmdi/Desktop/positional_encoding_gaussian_matrix.npy')"
   ]
  },
  {
   "cell_type": "code",
   "execution_count": 49,
   "id": "4d7240e4",
   "metadata": {},
   "outputs": [
    {
     "data": {
      "text/plain": [
       "<matplotlib.image.AxesImage at 0x7fec5a630880>"
      ]
     },
     "execution_count": 49,
     "metadata": {},
     "output_type": "execute_result"
    },
    {
     "data": {
      "image/png": "[encoded data removed]",
      "text/plain": [
       "<Figure size 640x480 with 1 Axes>"
      ]
     },
     "metadata": {},
     "output_type": "display_data"
    }
   ],
   "source": [
    "plt.imshow(pe[0].reshape(16,8))"
   ]
  },
  {
   "cell_type": "code",
   "execution_count": 61,
   "id": "59fa4539",
   "metadata": {},
   "outputs": [],
   "source": [
    "a = np.array([[[[0.3926, 0.3926]]]])@pe"
   ]
  },
  {
   "cell_type": "code",
   "execution_count": 78,
   "id": "7b53f9a1",
   "metadata": {},
   "outputs": [
    {
     "data": {
      "text/plain": [
       "(2, 128)"
      ]
     },
     "execution_count": 78,
     "metadata": {},
     "output_type": "execute_result"
    }
   ],
   "source": []
  },
  {
   "cell_type": "code",
   "execution_count": 75,
   "id": "4fde1f5e",
   "metadata": {},
   "outputs": [
    {
     "data": {
      "text/plain": [
       "array([[ 0.0943191 , -0.51089255,  0.51159517,  0.98759679,  0.26916823,\n",
       "         0.36821341, -0.41499423,  0.19343309, -0.28094593,  0.00947486,\n",
       "        -0.24857069,  1.25363571, -0.18828235,  0.64487781,  0.02988816,\n",
       "        -0.23869827, -0.41471396,  0.25730528, -0.32432363, -0.11516958,\n",
       "        -0.50021112,  0.15168961,  0.24297025,  0.49227072, -1.12370277,\n",
       "         0.25483151, -0.34114097,  0.73194384,  0.35963708, -0.03283023,\n",
       "         0.1140851 , -0.33538904, -0.24060301, -0.1194947 , -0.34787503,\n",
       "        -0.07717988, -0.70127419,  0.04434788, -0.24178234, -0.55628637,\n",
       "        -0.49513005,  0.26439593, -0.10564384, -0.29588579,  0.09605848,\n",
       "         0.04504763,  0.2894391 , -0.4499202 , -0.48544668,  0.26894019,\n",
       "         0.27994419,  0.14663639, -0.16694041,  0.44431577, -0.52856035,\n",
       "        -1.02097118,  0.28768999, -0.38655175, -0.62891943, -0.61340903,\n",
       "         0.72176321, -0.36525819,  0.32348244,  0.99840854, -0.57832233,\n",
       "         0.43709753,  1.13979685, -0.19453399, -0.11831874, -0.28982129,\n",
       "        -1.01613314, -0.20201754,  0.06179206, -0.37869886, -0.42187865,\n",
       "        -0.69048272,  0.91480161,  1.19203222,  0.21232067,  0.08913621,\n",
       "        -0.32558511,  0.27394381,  0.23066487,  0.05485181, -0.14125687,\n",
       "        -0.2515623 , -0.20624589, -0.3823579 ,  0.28019335,  0.21710621,\n",
       "        -0.07822732,  0.09582607, -0.45344859,  0.14548805, -0.03969571,\n",
       "        -0.21168405, -0.0230399 ,  0.28815367,  0.07517394,  0.31468659,\n",
       "        -0.15128728,  0.51681122, -0.11459441, -0.21436987,  0.08747204,\n",
       "        -0.40408211,  0.65688817,  0.05814401, -0.03016529,  0.52898555,\n",
       "         0.41883232, -0.07634805,  0.47154176,  0.46778739,  0.77704733,\n",
       "        -0.78296055, -0.28700092, -0.45676462, -0.84000288, -0.57585922,\n",
       "        -0.45218749,  0.37516287,  0.63278993,  0.09134271, -0.87166457,\n",
       "         0.14596171, -0.0031182 , -1.48857719]])"
      ]
     },
     "execution_count": 75,
     "metadata": {},
     "output_type": "execute_result"
    }
   ],
   "source": [
    "a[0,0]"
   ]
  },
  {
   "cell_type": "code",
   "execution_count": 65,
   "id": "6cff9f52",
   "metadata": {},
   "outputs": [
    {
     "data": {
      "text/plain": [
       "<matplotlib.image.AxesImage at 0x7fec5a487e20>"
      ]
     },
     "execution_count": 65,
     "metadata": {},
     "output_type": "execute_result"
    },
    {
     "data": {
      "image/png": "[encoded data removed]",
      "text/plain": [
       "<Figure size 640x480 with 1 Axes>"
      ]
     },
     "metadata": {},
     "output_type": "display_data"
    }
   ],
   "source": [
    "plt.imshow(a[0,0].reshape(16,8)-pe[0].reshape(16,8))"
   ]
  },
  {
   "cell_type": "code",
   "execution_count": 69,
   "id": "5379ef69",
   "metadata": {},
   "outputs": [
    {
     "data": {
      "text/plain": [
       "<matplotlib.image.AxesImage at 0x7fec5a3064f0>"
      ]
     },
     "execution_count": 69,
     "metadata": {},
     "output_type": "execute_result"
    },
    {
     "data": {
      "image/png": "[encoded data removed]",
      "text/plain": [
       "<Figure size 640x480 with 1 Axes>"
      ]
     },
     "metadata": {},
     "output_type": "display_data"
    }
   ],
   "source": [
    "plt.imshow(a[0,0].reshape(128,1))"
   ]
  },
  {
   "cell_type": "code",
   "execution_count": 85,
   "id": "bfac05be",
   "metadata": {},
   "outputs": [
    {
     "data": {
      "text/plain": [
       "<matplotlib.image.AxesImage at 0x7fec5a0d04f0>"
      ]
     },
     "execution_count": 85,
     "metadata": {},
     "output_type": "execute_result"
    },
    {
     "data": {
      "image/png": "[encoded data removed]",
      "text/plain": [
       "<Figure size 640x480 with 1 Axes>"
      ]
     },
     "metadata": {},
     "output_type": "display_data"
    }
   ],
   "source": [
    "plt.imshow(sparse_embeddings.detach()[0,0].reshape(4,64))"
   ]
  },
  {
   "cell_type": "code",
   "execution_count": 92,
   "id": "68fc6ab0",
   "metadata": {},
   "outputs": [],
   "source": [
    "coords = np.load('/home/mkhanmhmdi/Desktop/coord.npy')"
   ]
  },
  {
   "cell_type": "code",
   "execution_count": 93,
   "id": "62d729b0",
   "metadata": {},
   "outputs": [
    {
     "data": {
      "text/plain": [
       "(16, 2, 128)"
      ]
     },
     "execution_count": 93,
     "metadata": {},
     "output_type": "execute_result"
    }
   ],
   "source": [
    "coords.shape"
   ]
  },
  {
   "cell_type": "code",
   "execution_count": 94,
   "id": "627e25b0",
   "metadata": {},
   "outputs": [],
   "source": [
    "coords = coords.squeeze()"
   ]
  },
  {
   "cell_type": "code",
   "execution_count": 95,
   "id": "dc99749e",
   "metadata": {},
   "outputs": [
    {
     "data": {
      "text/plain": [
       "(16, 2, 128)"
      ]
     },
     "execution_count": 95,
     "metadata": {},
     "output_type": "execute_result"
    }
   ],
   "source": [
    "coords.shape"
   ]
  },
  {
   "cell_type": "code",
   "execution_count": 78,
   "id": "7ffc30f6",
   "metadata": {},
   "outputs": [
    {
     "data": {
      "text/plain": [
       "<matplotlib.image.AxesImage at 0x7f433af013a0>"
      ]
     },
     "execution_count": 78,
     "metadata": {},
     "output_type": "execute_result"
    },
    {
     "data": {
      "image/png": "[encoded data removed]",
      "text/plain": [
       "<Figure size 640x480 with 1 Axes>"
      ]
     },
     "metadata": {},
     "output_type": "display_data"
    }
   ],
   "source": [
    "plt.imshow(coords[:,0,:])"
   ]
  },
  {
   "cell_type": "code",
   "execution_count": 96,
   "id": "7173a747",
   "metadata": {},
   "outputs": [
    {
     "data": {
      "text/plain": [
       "<matplotlib.image.AxesImage at 0x7f433b0af3a0>"
      ]
     },
     "execution_count": 96,
     "metadata": {},
     "output_type": "execute_result"
    },
    {
     "data": {
      "image/png": "[encoded data removed]",
      "text/plain": [
       "<Figure size 640x480 with 1 Axes>"
      ]
     },
     "metadata": {},
     "output_type": "display_data"
    }
   ],
   "source": [
    "plt.imshow(coords[:,0,:])"
   ]
  },
  {
   "cell_type": "code",
   "execution_count": null,
   "id": "7a9ffe61",
   "metadata": {},
   "outputs": [],
   "source": []
  },
  {
   "cell_type": "code",
   "execution_count": 97,
   "id": "bbfee381",
   "metadata": {},
   "outputs": [],
   "source": [
    "coords = np.load('/home/mkhanmhmdi/Desktop/sin-cos.npy')"
   ]
  },
  {
   "cell_type": "code",
   "execution_count": 98,
   "id": "30e3913a",
   "metadata": {},
   "outputs": [
    {
     "data": {
      "text/plain": [
       "(16, 2, 256)"
      ]
     },
     "execution_count": 98,
     "metadata": {},
     "output_type": "execute_result"
    }
   ],
   "source": [
    "coords.shape"
   ]
  },
  {
   "cell_type": "code",
   "execution_count": 81,
   "id": "dd8055fc",
   "metadata": {},
   "outputs": [
    {
     "data": {
      "text/plain": [
       "<matplotlib.image.AxesImage at 0x7f433a999190>"
      ]
     },
     "execution_count": 81,
     "metadata": {},
     "output_type": "execute_result"
    },
    {
     "data": {
      "image/png": "[encoded data removed]",
      "text/plain": [
       "<Figure size 640x480 with 1 Axes>"
      ]
     },
     "metadata": {},
     "output_type": "display_data"
    }
   ],
   "source": [
    "plt.imshow(coords[:,0,:])"
   ]
  },
  {
   "cell_type": "code",
   "execution_count": 99,
   "id": "7b459dcb",
   "metadata": {},
   "outputs": [
    {
     "data": {
      "text/plain": [
       "<matplotlib.image.AxesImage at 0x7f433b0663a0>"
      ]
     },
     "execution_count": 99,
     "metadata": {},
     "output_type": "execute_result"
    },
    {
     "data": {
      "image/png": "[encoded data removed]",
      "text/plain": [
       "<Figure size 640x480 with 1 Axes>"
      ]
     },
     "metadata": {},
     "output_type": "display_data"
    }
   ],
   "source": [
    "plt.imshow(coords[:,0,:])"
   ]
  },
  {
   "cell_type": "code",
   "execution_count": null,
   "id": "dbf7737d",
   "metadata": {},
   "outputs": [],
   "source": []
  }
 ],
 "metadata": {
  "kernelspec": {
   "display_name": "Python 3 (ipykernel)",
   "language": "python",
   "name": "python3"
  },
  "language_info": {
   "codemirror_mode": {
    "name": "ipython",
    "version": 3
   },
   "file_extension": ".py",
   "mimetype": "text/x-python",
   "name": "python",
   "nbconvert_exporter": "python",
   "pygments_lexer": "ipython3",
   "version": "3.9.13"
  }
 },
 "nbformat": 4,
 "nbformat_minor": 5
}
